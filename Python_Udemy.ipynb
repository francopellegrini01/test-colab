{
  "nbformat": 4,
  "nbformat_minor": 0,
  "metadata": {
    "colab": {
      "name": "Python Udemy.ipynb",
      "provenance": [],
      "collapsed_sections": [],
      "authorship_tag": "ABX9TyOD4gs/KupBuWFNDXYxSKoG",
      "include_colab_link": true
    },
    "kernelspec": {
      "name": "python3",
      "display_name": "Python 3"
    },
    "language_info": {
      "name": "python"
    }
  },
  "cells": [
    {
      "cell_type": "markdown",
      "metadata": {
        "id": "view-in-github",
        "colab_type": "text"
      },
      "source": [
        "<a href=\"https://colab.research.google.com/github/francopellegrini01/test-colab/blob/main/Python_Udemy.ipynb\" target=\"_parent\"><img src=\"https://colab.research.google.com/assets/colab-badge.svg\" alt=\"Open In Colab\"/></a>"
      ]
    },
    {
      "cell_type": "code",
      "metadata": {
        "colab": {
          "base_uri": "https://localhost:8080/"
        },
        "id": "Yrhv8T3pOesC",
        "outputId": "8cf0d041-f151-4f72-8354-e9ad069d56e5"
      },
      "source": [
        "print (\"Hola\")\n",
        "dato = int (input(\"Por favor ingrese un numero entero:\"))\n",
        "print (\"El numero ingresado es: \", dato)\n",
        "\n",
        "\n",
        "\n",
        "\n"
      ],
      "execution_count": null,
      "outputs": [
        {
          "output_type": "stream",
          "name": "stdout",
          "text": [
            "Hola\n",
            "Por favor ingrese un numero entero:25\n",
            "El numero ingresado es:  25\n"
          ]
        }
      ]
    }
  ]
}